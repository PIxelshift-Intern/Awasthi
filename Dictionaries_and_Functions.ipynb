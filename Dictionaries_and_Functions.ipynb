{
 "cells": [
  {
   "cell_type": "markdown",
   "metadata": {},
   "source": [
    "## Dictonaries in Python"
   ]
  },
  {
   "cell_type": "code",
   "execution_count": 7,
   "metadata": {},
   "outputs": [
    {
     "name": "stdout",
     "output_type": "stream",
     "text": [
      "unknown\n",
      "85\n",
      "Sudurpashchim\n",
      "20\n",
      "dict_keys(['name', 'age', 'grades', 'address'])\n",
      "dict_values(['unknown', 20, [85, 90, 92], {'city': 'Anywhere', 'province': 'Sudurpashchim'}])\n",
      "dict_items([('name', 'unknown'), ('age', 20), ('grades', [85, 90, 92]), ('address', {'city': 'Anywhere', 'province': 'Sudurpashchim'})])\n",
      "name unknown\n",
      "grades [85, 90, 92]\n",
      "address {'city': 'Anywhere', 'province': 'Sudurpashchim'}\n",
      "{'name': 'unknown', 'age': 20, 'grades': [85, 90, 92]}\n",
      "{'a': 1, 'b': 2, 'c': 3, 'd': 4}\n"
     ]
    }
   ],
   "source": [
    "# Multiple ways to create dictionaries\n",
    "empty_dict = {}  # Literal method\n",
    "empty_dict = dict()  # Constructor method\n",
    "\n",
    "# Dictionary with initial values\n",
    "student = {\n",
    "    \"name\": \"unknown\", \n",
    "    \"age\": 20,\n",
    "    \"grades\": [85, 90, 92],\n",
    "    \"address\":{\n",
    "        \"city\": \"Anywhere\",\n",
    "        \"province\": \"Sudurpashchim\"\n",
    "    }\n",
    "}\n",
    "\n",
    "# accessing values\n",
    "print(student[\"name\"])\n",
    "print(student[\"grades\"][0])\n",
    "print(student[\"address\"][\"province\"])\n",
    "print(student.get(\"age\", 0))  # get method with default value 0 if not found\n",
    "\n",
    "# key extraction\n",
    "print(student.keys()) \n",
    "print(student.values()) # values\n",
    "print(student.items()) # key-value pairs\n",
    "\n",
    "# Removing items\n",
    "removed_value = student.pop(\"age\")\n",
    "\n",
    "# Iterating over dictionary\n",
    "for key in student:\n",
    "    print(key, student[key])\n",
    "    \n",
    "# create dictionary from two lists\n",
    "keys = [\"name\", \"age\", \"grades\"]\n",
    "values = [\"unknown\", 20, [85, 90, 92]]\n",
    "student = dict(zip(keys, values))\n",
    "print(student)\n",
    "\n",
    "# Merge dictionaries\n",
    "dict1 = {\"a\": 1, \"b\": 2}\n",
    "dict2 = {\"c\": 3, \"d\": 4}\n",
    "merged_dict = dict1 | dict2\n",
    "print(merged_dict)\n",
    "\n",
    "# Dictionary comprehension with condition\n",
    "odd_squares = {x: x*x for x in range(6) if x % 2 == 1}\n",
    "\n",
    "# Efficient dictionary lookup\n",
    "user_data = {\n",
    "    \"user_id\": 12345,\n",
    "    \"username\": \"alice_smith\"\n",
    "}\n",
    "# O(1) time complexity lookup\n",
    "username = user_data.get(\"username\")\n",
    "\n",
    "    \n"
   ]
  },
  {
   "cell_type": "markdown",
   "metadata": {},
   "source": [
    "## Functions"
   ]
  },
  {
   "cell_type": "markdown",
   "metadata": {},
   "source": [
    "Basics and args , kwargs"
   ]
  },
  {
   "cell_type": "code",
   "execution_count": 10,
   "metadata": {},
   "outputs": [
    {
     "name": "stdout",
     "output_type": "stream",
     "text": [
      "Hello, Unknown!\n",
      "8\n",
      "9\n",
      "10\n",
      "{'name': 'Unknown', 'age': 25}\n"
     ]
    }
   ],
   "source": [
    "def greet(name):\n",
    "    return f\"Hello, {name}!\"\n",
    "\n",
    "print(greet(\"Unknown\"))\n",
    "\n",
    "# Function with default parameters\n",
    "def power(base, exponent=2):\n",
    "    return base ** exponent\n",
    "\n",
    "print(power(2, 3))\n",
    "print(power(3))\n",
    "\n",
    "# Function with variable number of arguments\n",
    "def add(*args):\n",
    "    return sum(args)\n",
    "\n",
    "print(add(1, 2, 3, 4))\n",
    "\n",
    "# Function with variable number of keyword arguments\n",
    "def user_info(**kwargs):\n",
    "    return kwargs\n",
    "\n",
    "print(user_info(name=\"Unknown\", age=25))\n",
    "\n"
   ]
  },
  {
   "cell_type": "markdown",
   "metadata": {},
   "source": [
    "Lambda Function"
   ]
  },
  {
   "cell_type": "code",
   "execution_count": 15,
   "metadata": {},
   "outputs": [
    {
     "name": "stdout",
     "output_type": "stream",
     "text": [
      "25\n",
      "[1, 4, 9, 16]\n"
     ]
    }
   ],
   "source": [
    "# Compact one-line functions\n",
    "square = lambda x: x ** 2\n",
    "print(square(5))\n",
    "\n",
    "# Using lambda with map()\n",
    "numbers = [1, 2, 3, 4]\n",
    "squared = list(map(square, numbers))\n",
    "print(squared)\n",
    "\n"
   ]
  },
  {
   "cell_type": "markdown",
   "metadata": {},
   "source": [
    "Nested Functions"
   ]
  },
  {
   "cell_type": "code",
   "execution_count": 16,
   "metadata": {},
   "outputs": [
    {
     "name": "stdout",
     "output_type": "stream",
     "text": [
      "8\n"
     ]
    }
   ],
   "source": [
    "def outer_function(x):\n",
    "    def inner_function(y):\n",
    "        return x + y\n",
    "    return inner_function\n",
    "\n",
    "add_5 = outer_function(5)\n",
    "print(add_5(3))  # Returns 8"
   ]
  },
  {
   "cell_type": "markdown",
   "metadata": {},
   "source": [
    "Decorators : A decorator is a higher-order function that takes a function as input, enhances or modifies its behavior, and returns the modified function."
   ]
  },
  {
   "cell_type": "code",
   "execution_count": 20,
   "metadata": {},
   "outputs": [
    {
     "name": "stdout",
     "output_type": "stream",
     "text": [
      "Calling multiply with arguments (5, 6)\n",
      "30\n"
     ]
    }
   ],
   "source": [
    "# Basic decorator\n",
    "def log_function(func):\n",
    "    def wrapper(*args, **kwargs):\n",
    "        print(f\"Calling {func.__name__} with arguments {args}\")\n",
    "        return func(*args, **kwargs)\n",
    "    return wrapper\n",
    "\n",
    "@log_function\n",
    "def multiply(a, b):\n",
    "    return a * b\n",
    "\n",
    "print(multiply(5, 6)) "
   ]
  },
  {
   "cell_type": "markdown",
   "metadata": {},
   "source": [
    "Type Hints "
   ]
  },
  {
   "cell_type": "code",
   "execution_count": 21,
   "metadata": {},
   "outputs": [
    {
     "name": "stdout",
     "output_type": "stream",
     "text": [
      "30.0\n"
     ]
    }
   ],
   "source": [
    "def calculate_area(length: float, width: float) -> float:\n",
    "    return length * width\n",
    "\n",
    "print(calculate_area(5.0, 6.0))"
   ]
  },
  {
   "cell_type": "markdown",
   "metadata": {},
   "source": [
    "Higher Order Functions "
   ]
  },
  {
   "cell_type": "code",
   "execution_count": 22,
   "metadata": {},
   "outputs": [
    {
     "name": "stdout",
     "output_type": "stream",
     "text": [
      "15\n"
     ]
    }
   ],
   "source": [
    "def apply_operation(func, x, y):\n",
    "    return func(x, y)\n",
    "\n",
    "def multiply(a, b):\n",
    "    return a * b\n",
    "\n",
    "result = apply_operation(multiply, 5, 3)\n",
    "print(result)"
   ]
  },
  {
   "cell_type": "markdown",
   "metadata": {},
   "source": [
    "Generator Functions"
   ]
  },
  {
   "cell_type": "code",
   "execution_count": 27,
   "metadata": {},
   "outputs": [
    {
     "name": "stdout",
     "output_type": "stream",
     "text": [
      "[0, 1, 1, 2, 3, 5, 8, 13, 21, 34]\n"
     ]
    }
   ],
   "source": [
    "def fibonacci(n):\n",
    "    a, b = 0, 1\n",
    "    for _ in range(n):\n",
    "        yield a\n",
    "        a, b = b, a + b\n",
    "\n",
    "# Using the generator\n",
    "fib_sequence = list(fibonacci(10))\n",
    "print(fib_sequence)"
   ]
  },
  {
   "cell_type": "markdown",
   "metadata": {},
   "source": [
    "A generator function is a special type of function that returns an iterator object. Instead of using return to send back a single value, generator functions use yield to produce a series of results over time. This allows the function to generate values and pause its execution after each yield, maintaining its state between iterations."
   ]
  }
 ],
 "metadata": {
  "kernelspec": {
   "display_name": "Python 3",
   "language": "python",
   "name": "python3"
  },
  "language_info": {
   "codemirror_mode": {
    "name": "ipython",
    "version": 3
   },
   "file_extension": ".py",
   "mimetype": "text/x-python",
   "name": "python",
   "nbconvert_exporter": "python",
   "pygments_lexer": "ipython3",
   "version": "3.12.2"
  }
 },
 "nbformat": 4,
 "nbformat_minor": 2
}
