{
    "cells": [
        {
            "cell_type": "markdown",
            "metadata": {},
            "source": [
                "# Object-Oriented Programming in Python\n",
                "\n",
                "Encapsulation, Inheritance, Polymorphism, and Abstraction with practical examples."
            ]
        },
        {
            "cell_type": "markdown",
            "metadata": {},
            "source": [
                "## 1. Encapsulation\n",
                "\n",
                "Hiding private data and providing access via methods ( getter, setter)\n"
            ]
        },
        {
            "cell_type": "code",
            "execution_count": 4,
            "metadata": {},
            "outputs": [
                {
                    "name": "stdout",
                    "output_type": "stream",
                    "text": [
                        "Owner: Unknown Balance: 1000\n",
                        "Owner: Unknown Balance: 1500\n",
                        "Owner: Unknown Balance: 700\n"
                    ]
                }
            ],
            "source": [
                "class BankAccount:\n",
                "    def __init__(self, owner, balance):\n",
                "        self.owner = owner                   # self refers to the instance of the class\n",
                "        self.__balance = balance             # private variable\n",
                "\n",
                "    def get_balance(self):\n",
                "        return self.__balance             # getter\n",
                "\n",
                "    def deposit(self, amount):\n",
                "            self.__balance += amount\n",
                "\n",
                "\n",
                "    def withdraw(self, amount):\n",
                "        if amount <= self.__balance:\n",
                "            self.__balance -= amount\n",
                "        else:\n",
                "            print('Insufficient funds.')\n",
                "\n",
                "account = BankAccount('Unknown', 1000)\n",
                "print (f\"Owner: {account.owner} Balance: {account.get_balance()}\")\n",
                "account.deposit(500)\n",
                "print (f\"Owner: {account.owner} Balance: {account.get_balance()}\")\n",
                "account.withdraw(800)\n",
                "print (f\"Owner: {account.owner} Balance: {account.get_balance()}\")"
            ]
        },
        {
            "cell_type": "markdown",
            "metadata": {},
            "source": [
                "## 2. Inheritance\n",
                "Reusing code by inheriting from a parent class\n"
            ]
        },
        {
            "cell_type": "code",
            "execution_count": 6,
            "metadata": {},
            "outputs": [
                {
                    "name": "stdout",
                    "output_type": "stream",
                    "text": [
                        "Rocky Woof!\n",
                        "Billi Meow!\n",
                        "Rocky is an animal\n"
                    ]
                }
            ],
            "source": [
                "class Animal:\n",
                "    def __init__(self, name):\n",
                "        self.name = name\n",
                "\n",
                "    def sound(self):\n",
                "        return 'Some generic sound'\n",
                "    \n",
                "    def description(self):\n",
                "        return f\"{self.name} is an animal\"\n",
                "\n",
                "# the Dog and Cat classes inherit the constructor, description and sound is overwritten from the Animal class\n",
                "\n",
                "class Dog(Animal):\n",
                "    def sound(self):\n",
                "        return 'Woof!'\n",
                "\n",
                "class Cat(Animal):\n",
                "    def sound(self):\n",
                "        return 'Meow!'\n",
                "\n",
                "dog = Dog('Rocky')\n",
                "cat = Cat('Billi')\n",
                "\n",
                "print(dog.name, dog.sound())  \n",
                "print(cat.name, cat.sound())  \n",
                "print(dog.description())  "
            ]
        },
        {
            "cell_type": "markdown",
            "metadata": {},
            "source": [
                "### Using `super()` for Inheritance\n",
                "\n",
                "To call parent class methods"
            ]
        },
        {
            "cell_type": "code",
            "execution_count": 8,
            "metadata": {},
            "outputs": [
                {
                    "name": "stdout",
                    "output_type": "stream",
                    "text": [
                        "Unknown is working.\n",
                        "Unknown is managing a team of 5 people.\n"
                    ]
                }
            ],
            "source": [
                "\n",
                "class Employee:\n",
                "    def __init__(self, name, salary):\n",
                "        self.name = name\n",
                "        self.salary = salary\n",
                "        \n",
                "    def work(self):\n",
                "            print(f\"{self.name} is working.\")\n",
                "\n",
                "class Manager(Employee):\n",
                "    def __init__(self, name, salary, team_size):\n",
                "        super().__init__(name, salary)\n",
                "        self.team_size = team_size\n",
                "        \n",
                "    def work(self):\n",
                "        super().work()  # Calling parent class work() method\n",
                "        print(f\"{self.name} is managing a team of {self.team_size} people.\")\n",
                "        \n",
                "manager = Manager(\"Unknown\", 80000, 5)\n",
                "\n",
                "manager.work()"
            ]
        },
        {
            "cell_type": "markdown",
            "metadata": {},
            "source": [
                "## 3. Polymorphism\n",
                "Same method name behaving differently in different classes"
            ]
        },
        {
            "cell_type": "code",
            "execution_count": 9,
            "metadata": {},
            "outputs": [
                {
                    "name": "stdout",
                    "output_type": "stream",
                    "text": [
                        "Birds can fly\n",
                        "Penguins cant fly\n"
                    ]
                }
            ],
            "source": [
                "class Bird:\n",
                "    def fly(self):\n",
                "        return 'Birds can fly'\n",
                "\n",
                "class Penguin(Bird):\n",
                "    def fly(self):\n",
                "        return 'Penguins cant fly'\n",
                "\n",
                "def flying_test(bird):\n",
                "    print(bird.fly())\n",
                "\n",
                "sparrow = Bird()\n",
                "penguin = Penguin()\n",
                "\n",
                "flying_test(sparrow)  \n",
                "flying_test(penguin)  "
            ]
        },
        {
            "cell_type": "markdown",
            "metadata": {},
            "source": [
                "### Duck Typing Example\n",
                "Duck Typing: an object's suitability for use is determined by its behavior (methods and properties), rather than its explicit type or class inheritance.\n"
            ]
        },
        {
            "cell_type": "code",
            "execution_count": 13,
            "metadata": {},
            "outputs": [
                {
                    "name": "stdout",
                    "output_type": "stream",
                    "text": [
                        "Car is starting\n",
                        "Plane is taking off\n"
                    ]
                }
            ],
            "source": [
                "class Car:\n",
                "    def start(self):\n",
                "        return 'Car is starting'\n",
                "\n",
                "class Plane:\n",
                "    def start(self):\n",
                "        return 'Plane is taking off'\n",
                "\n",
                "def start_vehicle(vehicle):\n",
                "    print(vehicle.start())\n",
                "\n",
                "car = Car()\n",
                "plane = Plane()\n",
                "\n",
                "start_vehicle(car)   \n",
                "start_vehicle(plane) \n",
                "\n",
                "# It works with any object that has a start() method, whether it's a Car or a Plane."
            ]
        },
        {
            "cell_type": "markdown",
            "metadata": {},
            "source": [
                "## 4. Abstraction\n",
                "Hiding implementation details using Abstract Base Class"
            ]
        },
        {
            "cell_type": "code",
            "execution_count": 14,
            "metadata": {},
            "outputs": [
                {
                    "name": "stdout",
                    "output_type": "stream",
                    "text": [
                        "Woof!\n",
                        "Meow!\n"
                    ]
                }
            ],
            "source": [
                "\n",
                "from abc import ABC, abstractmethod\n",
                "\n",
                "# Animal is an abstract class that cannot be instantiated directly. It serves as a blueprint for other classes.\n",
                "# The method sound is defined as an abstract method using the @abstractmethod decorator. \n",
                "# This means that any subclass of Animal must implement sound method.\n",
                "\n",
                "class Animal(ABC):\n",
                "    @abstractmethod\n",
                "    def sound(self):\n",
                "        pass\n",
                "\n",
                "class Dog(Animal):\n",
                "    def sound(self):\n",
                "        return 'Woof!'\n",
                "\n",
                "class Cat(Animal):\n",
                "    def sound(self):\n",
                "        return 'Meow!'\n",
                "\n",
                "dog = Dog()\n",
                "cat = Cat()\n",
                "\n",
                "print(dog.sound()) \n",
                "print(cat.sound())  "
            ]
        },
        {
            "cell_type": "markdown",
            "metadata": {},
            "source": [
                "### Abstract Properties Example\n"
            ]
        },
        {
            "cell_type": "code",
            "execution_count": 16,
            "metadata": {},
            "outputs": [
                {
                    "name": "stdout",
                    "output_type": "stream",
                    "text": [
                        "78.5\n"
                    ]
                }
            ],
            "source": [
                "# The @property decorator is applied to area, which means that area will be treated as a property and not a regular method. \n",
                "# This makes area behave like an attribute (i.e., you can access it without parentheses, like circle.area),\n",
                "\n",
                "class Shape(ABC):\n",
                "    @property\n",
                "    @abstractmethod\n",
                "    def area(self):\n",
                "        pass\n",
                "\n",
                "class Circle(Shape):\n",
                "    def __init__(self, radius):\n",
                "        self.radius = radius\n",
                "\n",
                "    @property\n",
                "    def area(self):\n",
                "        return 3.14 * self.radius * self.radius\n",
                "\n",
                "circle = Circle(5)\n",
                "print(circle.area)  "
            ]
        },
        {
            "cell_type": "markdown",
            "metadata": {},
            "source": [
                "## How do you use @property and @property.setter for encapsulation?\n",
                "\n",
                "@property: This decorator is used to define a method as a getter for a property \n",
                "@property.setter: This decorator is used to define a method as a setter for a property.\n"
            ]
        },
        {
            "cell_type": "code",
            "execution_count": 17,
            "metadata": {},
            "outputs": [
                {
                    "name": "stdout",
                    "output_type": "stream",
                    "text": [
                        "50\n",
                        "Width: 7 Height: 3\n",
                        "21\n"
                    ]
                }
            ],
            "source": [
                "class Rectangle:\n",
                "    def __init__(self, width, height):\n",
                "        self._width = width\n",
                "        self._height = height\n",
                "    \n",
                "    @property\n",
                "    def width(self):\n",
                "        # Getter for the width property\n",
                "        return self._width\n",
                "    \n",
                "    @width.setter\n",
                "    def width(self, value):\n",
                "        # Setter for the width property \n",
                "        if value <= 0:\n",
                "            raise ValueError(\"Width must be greater than 0\")\n",
                "        self._width = value\n",
                "    \n",
                "    @property\n",
                "    def height(self):\n",
                "        # Getter for the height property\n",
                "        return self._height\n",
                "    \n",
                "    @height.setter\n",
                "    def height(self, value):\n",
                "        # Setter for the height property \n",
                "        self._height = value\n",
                "    \n",
                "    @property\n",
                "    def area(self):\n",
                "        # Getter for the area (calculated based on width and height)\n",
                "        return self._width * self._height\n",
                "\n",
                "\n",
                "# Example usage:\n",
                "rect = Rectangle(5, 10)\n",
                "print(rect.area) \n",
                "\n",
                "rect.width = 7  # Sets the width to 7\n",
                "rect.height = 3  # Sets the height to 3\n",
                "print (f\"Width: {rect.width} Height: {rect.height}\")\n",
                "print(rect.area) \n",
                "\n"
            ]
        }
    ],
    "metadata": {
        "kernelspec": {
            "display_name": "Python 3",
            "language": "python",
            "name": "python3"
        },
        "language_info": {
            "codemirror_mode": {
                "name": "ipython",
                "version": 3
            },
            "file_extension": ".py",
            "mimetype": "text/x-python",
            "name": "python",
            "nbconvert_exporter": "python",
            "pygments_lexer": "ipython3",
            "version": "3.12.2"
        }
    },
    "nbformat": 4,
    "nbformat_minor": 2
}
