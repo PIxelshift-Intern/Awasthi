{
 "cells": [
  {
   "cell_type": "markdown",
   "metadata": {},
   "source": [
    "## Python Refresher"
   ]
  },
  {
   "cell_type": "markdown",
   "metadata": {},
   "source": [
    "# 1. Variables and Data Types ( Basics )"
   ]
  },
  {
   "cell_type": "code",
   "execution_count": 1,
   "metadata": {},
   "outputs": [
    {
     "name": "stdout",
     "output_type": "stream",
     "text": [
      "String: Python Intern, Type: <class 'str'>\n",
      "Integer: 25, Type: <class 'int'>\n",
      "Float: 5.9, Type: <class 'float'>\n",
      "Boolean: True, Type: <class 'bool'>\n"
     ]
    }
   ],
   "source": [
    "# Variables are like containers of memory that store data.\n",
    "# Python is a dynamically typed language, A dynamically typed language means that variable types are determined at runtime.\n",
    "# The type of a variable is determined by the value assigned to it.\n",
    "\n",
    "name = \"Python Intern\"     # str\n",
    "age = 25                   # int\n",
    "height = 5.9              # float\n",
    "is_student = True         # bool\n",
    "\n",
    "# You can use the type() function to get the type of a variable.\n",
    "print(f\"String: {name}, Type: {type(name)}\")"
   ]
  },
  {
   "cell_type": "markdown",
   "metadata": {},
   "source": [
    "## 2. Type Conversion\n",
    "\n",
    "Converting between different data types in Python."
   ]
  },
  {
   "cell_type": "code",
   "execution_count": 5,
   "metadata": {},
   "outputs": [
    {
     "name": "stdout",
     "output_type": "stream",
     "text": [
      "<class 'str'> to <class 'int'>\n",
      "Float to int: 3.99 -> 3\n"
     ]
    }
   ],
   "source": [
    "# String to int/float\n",
    "str_num = \"100\"\n",
    "num = int(str_num)\n",
    "print(f\"{type(str_num)} to {type(num)}\")\n",
    "\n",
    "str_float = \"3.14\"\n",
    "float_num = float(str_float)\n",
    "\n",
    "# Number to string\n",
    "num = 42\n",
    "num_str = str(num)\n",
    "\n",
    "# Float to int \n",
    "float_num = 3.99\n",
    "int_num = int(float_num)\n",
    "print(f\"Float to int: {float_num} -> {int_num}\")"
   ]
  },
  {
   "cell_type": "markdown",
   "metadata": {},
   "source": [
    "## 3. Control Structures\n",
    "\n",
    "Understanding if-else statements and loops."
   ]
  },
  {
   "cell_type": "code",
   "execution_count": 6,
   "metadata": {},
   "outputs": [
    {
     "name": "stdout",
     "output_type": "stream",
     "text": [
      "Score: 85, Grade: B\n",
      "\n",
      "For loop:\n",
      "Iteration 1\n",
      "Iteration 2\n",
      "Iteration 3\n",
      "\n",
      "While loop:\n",
      "Count: 0\n",
      "Count: 1\n",
      "Count: 2\n"
     ]
    }
   ],
   "source": [
    "# If-else statement\n",
    "score = 85\n",
    "if score >= 90:\n",
    "    grade = \"A\"\n",
    "elif score >= 80:\n",
    "    grade = \"B\"\n",
    "else:\n",
    "    grade = \"C\"\n",
    "print(f\"Score: {score}, Grade: {grade}\")\n",
    "\n",
    "# For loop\n",
    "print(\"\\nFor loop:\")\n",
    "for i in range(3):\n",
    "    print(f\"Iteration {i + 1}\")\n",
    "\n",
    "# While loop\n",
    "print(\"\\nWhile loop:\")\n",
    "count = 0\n",
    "while count < 3:\n",
    "    print(f\"Count: {count}\")\n",
    "    count += 1"
   ]
  },
  {
   "cell_type": "markdown",
   "metadata": {},
   "source": [
    "## 4. Data Structures\n",
    "\n",
    "Working with lists, tuples, sets, and dictionaries."
   ]
  },
  {
   "cell_type": "code",
   "execution_count": 11,
   "metadata": {},
   "outputs": [
    {
     "name": "stdout",
     "output_type": "stream",
     "text": [
      "Initial List : [8, 2.3, [-4, 5], ['apple', 'banana']]\n",
      "List after operations: [8, 100000, 2.3, [-4, 5], ['apple', 'banana'], 'Unkown']\n",
      "\n",
      "Coordinates: x=10, y=20, z=30\n",
      "\n",
      "Set union: {1, 2, 3, 4, 5, 6}\n",
      "Set intersection: {3, 4}\n",
      "\n",
      "Student info: {'name': 'Awasthi', 'age': 20, 'courses': ['Python', 'Git']}\n",
      "20\n",
      "After adding grade: {'name': 'Awasthi', 'age': 20, 'courses': ['Python', 'Git'], 'grade': 'A'}\n"
     ]
    }
   ],
   "source": [
    "# List operations\n",
    "list1 = [8, 2.3, [-4, 5], [\"apple\", \"banana\"]]\n",
    "print(f\"Initial List : {list1}\")\n",
    "list1.append(\"Unkown\")            # Append to list\n",
    "list1.insert(1, 100000)          # Insert at index\n",
    "print(f\"List after operations: {list1}\")\n",
    "\n",
    "# unpacking of list into variables\n",
    "num1, num2, *rest = list1\n",
    "\n",
    "# Tuples are immutable and can not be modified after creation.\n",
    "coordinates = (10, 20, 30)\n",
    "\n",
    "# unpacking of list/Tuples into variables \n",
    "x, y, z = coordinates              # Tuple unpacking\n",
    "print(f\"\\nCoordinates: x={x}, y={y}, z={z}\")\n",
    "\n",
    "# Set operations\n",
    "set1 = {1, 2, 3, 4}\n",
    "set2 = {3, 4, 5, 6}\n",
    "print(f\"\\nSet union: {set1 | set2}\")\n",
    "print(f\"Set intersection: {set1 & set2}\")\n",
    "\n",
    "# Dictionary\n",
    "student = {\n",
    "    \"name\": \"Awasthi\",\n",
    "    \"age\": 20,\n",
    "    \"courses\": [\"Python\", \"Git\"]\n",
    "}\n",
    "\n",
    "\n",
    "print(f\"\\nStudent info: {student}\")\n",
    "print(f\"{student['age']}\")\n",
    "student[\"grade\"] = \"A\"              # Add new key-value\n",
    "print(f\"After adding grade: {student}\")\n"
   ]
  },
  {
   "cell_type": "markdown",
   "metadata": {},
   "source": [
    "## 5. List Comprehension\n",
    "\n",
    "Creating lists using comprehension syntax."
   ]
  },
  {
   "cell_type": "code",
   "execution_count": 12,
   "metadata": {},
   "outputs": [
    {
     "name": "stdout",
     "output_type": "stream",
     "text": [
      "Squares: [1, 4, 9, 16, 25]\n",
      "Even squares: [4, 16]\n",
      "Flattened matrix: [1, 2, 3, 4, 5, 6, 7, 8, 9]\n"
     ]
    }
   ],
   "source": [
    "# Basic list comprehension\n",
    "numbers = [1, 2, 3, 4, 5]\n",
    "squares = [x**2 for x in numbers]\n",
    "print(f\"Squares: {squares}\")\n",
    "\n",
    "# List comprehension with condition\n",
    "even_squares = [x**2 for x in numbers if x % 2 == 0]\n",
    "print(f\"Even squares: {even_squares}\")\n",
    "\n",
    "# Nested list comprehension\n",
    "matrix = [[1, 2, 3], [4, 5, 6], [7, 8, 9]]\n",
    "flattened = [num for row in matrix for num in row]\n",
    "print(f\"Flattened matrix: {flattened}\")"
   ]
  },
  {
   "cell_type": "markdown",
   "metadata": {},
   "source": [
    "## 6. Functions\n",
    "\n",
    "Understanding function definition and parameters."
   ]
  },
  {
   "cell_type": "code",
   "execution_count": 1,
   "metadata": {},
   "outputs": [
    {
     "name": "stdout",
     "output_type": "stream",
     "text": [
      "Hello, Awasthi!\n",
      "Name: Awasthi, Age: 20, Role: Developer\n",
      "Total with tax: $66.00\n"
     ]
    }
   ],
   "source": [
    "# Basic function\n",
    "def greet(name):\n",
    "    return f\"Hello, {name}!\"\n",
    "\n",
    "print(greet(\"Awasthi\"))\n",
    "\n",
    "# Function with multiple returns\n",
    "def get_user_info():\n",
    "    return \"Awasthi\", 20, \"Developer\"\n",
    "\n",
    "name, age, role = get_user_info()\n",
    "print(f\"Name: {name}, Age: {age}, Role: {role}\")\n",
    "\n",
    "# Function with type hints\n",
    "def calculate_total(prices: list, tax_rate: float = 0.1) -> float:\n",
    "    subtotal = sum(prices)\n",
    "    return subtotal * (1 + tax_rate)\n",
    "\n",
    "total = calculate_total([10, 20, 30])\n",
    "print(f\"Total with tax: ${total:.2f}\")"
   ]
  },
  {
   "cell_type": "markdown",
   "metadata": {},
   "source": [
    "## 7. Exception Handling\n",
    "\n",
    "Learning to handle errors and exceptions."
   ]
  },
  {
   "cell_type": "code",
   "execution_count": 15,
   "metadata": {},
   "outputs": [
    {
     "name": "stdout",
     "output_type": "stream",
     "text": [
      "Division operation attempted\n",
      "5.0\n",
      "Error: division by zero\n",
      "Division operation attempted\n",
      "None\n",
      "Error: unsupported operand type(s) for /: 'str' and 'int'\n",
      "Division operation attempted\n",
      "None\n"
     ]
    }
   ],
   "source": [
    "def divide_numbers(a, b):\n",
    "    try:\n",
    "        result = a / b\n",
    "        return result\n",
    "    except Exception as e:  # Catch any error \n",
    "        print(f\"Error: {e}\")\n",
    "    finally:\n",
    "        print(\"Division operation attempted\")\n",
    "\n",
    "print(divide_numbers(10, 2))\n",
    "print(divide_numbers(10, 0))\n",
    "print(divide_numbers(\"10\", 2))"
   ]
  },
  {
   "cell_type": "markdown",
   "metadata": {},
   "source": [
    "## 8. File Handling\n",
    "\n",
    "Reading from and writing to files."
   ]
  },
  {
   "cell_type": "code",
   "execution_count": 3,
   "metadata": {},
   "outputs": [
    {
     "name": "stdout",
     "output_type": "stream",
     "text": [
      "Reading entire file:\n",
      "Stay Hydrated\n",
      "\n"
     ]
    }
   ],
   "source": [
    "# Writing to a file\n",
    "with open(\"eg.txt\", \"w\") as f:\n",
    "    f.write(\"Stay Hydrated\\n\")\n",
    "\n",
    "# Reading from a file\n",
    "print(\"Reading entire file:\")\n",
    "with open(\"eg.txt\", \"r\") as f:\n",
    "    content = f.read()\n",
    "    print(content)"
   ]
  },
  {
   "cell_type": "markdown",
   "metadata": {},
   "source": [
    "## 9. Working with JSON\n",
    "\n",
    "Handling JSON data in Python."
   ]
  },
  {
   "cell_type": "code",
   "execution_count": 6,
   "metadata": {},
   "outputs": [
    {
     "name": "stdout",
     "output_type": "stream",
     "text": [
      "Type of JSON data:<class 'dict'>\n",
      "\n",
      "JSON string: {\"name\": \"Python Intern\", \"skills\": [\"Python\", \"Git\", \"VS Code\"], \"experience\": 1, \"contact\": {\"email\": \"intern@example.com\", \"phone\": \"123-456-7890\"}} , \n",
      "Type: <class 'str'>\n",
      "\n",
      "Accessing JSON data:\n",
      "Name: Python Intern\n",
      "Skills: ['Python', 'Git', 'VS Code']\n",
      "Email: intern@example.com\n"
     ]
    }
   ],
   "source": [
    "import json\n",
    "\n",
    "# Creating JSON data\n",
    "data = {\n",
    "    \"name\": \"Python Intern\",\n",
    "    \"skills\": [\"Python\", \"Git\", \"VS Code\"],\n",
    "    \"experience\": 1,\n",
    "    \"contact\": {\n",
    "        \"email\": \"intern@example.com\",\n",
    "        \"phone\": \"123-456-7890\"\n",
    "    }\n",
    "}\n",
    "\n",
    "print(f\"Type of JSON data:{type(data)}\")\n",
    "\n",
    "# Converting to JSON string\n",
    "json_string = json.dumps(data)\n",
    "\n",
    "print(f\"\\nJSON string: {json_string} , \\nType: {type(json_string)}\")\n",
    "\n",
    "# Parsing JSON string\n",
    "parsed_data = json.loads(json_string)\n",
    "print(\"\\nAccessing JSON data:\")\n",
    "print(f\"Name: {parsed_data['name']}\")\n",
    "print(f\"Skills: {parsed_data['skills']}\")\n",
    "print(f\"Email: {parsed_data['contact']['email']}\")"
   ]
  },
  {
   "cell_type": "markdown",
   "metadata": {},
   "source": [
    "## Getting User Input"
   ]
  },
  {
   "cell_type": "markdown",
   "metadata": {},
   "source": [
    "input () function first takes the input from the user and converts it into a string."
   ]
  },
  {
   "cell_type": "code",
   "execution_count": null,
   "metadata": {},
   "outputs": [
    {
     "name": "stdout",
     "output_type": "stream",
     "text": [
      "Hello, ram!\n",
      "Command line arguments:\n",
      "['c:\\\\Users\\\\HP\\\\AppData\\\\Local\\\\Programs\\\\Python\\\\Python312\\\\Lib\\\\site-packages\\\\ipykernel_launcher.py', '--f=c:\\\\Users\\\\HP\\\\AppData\\\\Roaming\\\\jupyter\\\\runtime\\\\kernel-v3fee0cb0127d98238f3299ae1f26b4c1e34149c24.json']\n",
      "First argument: c:\\Users\\HP\\AppData\\Local\\Programs\\Python\\Python312\\Lib\\site-packages\\ipykernel_launcher.py\n",
      "Error: Invalid input\n"
     ]
    }
   ],
   "source": [
    "# basic input\n",
    "name = input(\"What is your name? \")\n",
    "print(\"Hello, \" + name + \"!\")\n",
    "\n",
    "# getting input from command line arguments\n",
    "import sys\n",
    "print(\"Command line arguments:\")\n",
    "print(sys.argv)\n",
    "print(f\"First argument: {sys.argv[0]}\")\n",
    "\n",
    "#usage \n",
    "try :\n",
    "    res = input(\"Enter y/n : \")\n",
    "    if (res[0].lower() == 'y'):\n",
    "        print(\"Yes\")\n",
    "    elif (res[0].lower() == 'n'):\n",
    "        print(\"No\")\n",
    "    else:\n",
    "        raise Exception(\"Invalid input\")\n",
    "except Exception as e:\n",
    "    print(f\"Error: {e}\")\n",
    "    \n",
    "\n",
    "# this is getting user input from a POST request in Django.\n",
    "#username = request.POST.get('username')"
   ]
  },
  {
   "cell_type": "markdown",
   "metadata": {},
   "source": [
    "## String formatting in Python "
   ]
  },
  {
   "cell_type": "code",
   "execution_count": 19,
   "metadata": {},
   "outputs": [
    {
     "name": "stdout",
     "output_type": "stream",
     "text": [
      "Using .format() Unknown is 30 years old \n",
      "Using .format() with named arguments Unknown is 30 years old\n",
      "Using f-string Unknown is 30 years old\n",
      "Number: 3.14\n"
     ]
    }
   ],
   "source": [
    "name = \"Unknown\"\n",
    "age = 30\n",
    "x = \"{} is {} years old \".format(name, age)\n",
    "\n",
    "print(\"Using .format() \"+x) # Using .format() method\n",
    "\n",
    "# to improve readability \n",
    "print(\"Using .format() with named arguments {name} is {age} years old\".format(name=name, age=age)) # \n",
    "\n",
    "print(f\"Using f-string {name} is {age} years old\") # Using f-string\n",
    "\n",
    "# format specifiers\n",
    "num = 3.14159265359\n",
    "print(f\"Number: {num:.2f}\") # 2 decimal places\n"
   ]
  },
  {
   "cell_type": "markdown",
   "metadata": {},
   "source": [
    "## String Assignment "
   ]
  },
  {
   "cell_type": "code",
   "execution_count": 28,
   "metadata": {},
   "outputs": [
    {
     "name": "stdout",
     "output_type": "stream",
     "text": [
      "Unknown\n",
      "This is\n",
      "a multi-line\n",
      "string.\n",
      "Error: 'str' object does not support item assignment\n",
      "Django\n",
      "C:\\new_folder\\file.txt\n",
      "Cristiano Ronaldo\n",
      "P\n",
      "o\n",
      "Py\n",
      "thon\n",
      "Py\n",
      "Pto\n",
      "nohtyP\n",
      "PYTHON\n",
      "Python\n",
      "jython\n",
      "2\n",
      "True\n",
      "True\n",
      "True\n",
      "False\n",
      "True\n",
      "False\n",
      "False\n",
      "['py', 'hon']\n",
      "python\n",
      "Hello Hello Hello \n"
     ]
    }
   ],
   "source": [
    "name = \"Unknown\"\n",
    "print(name)  \n",
    "\n",
    "multi_line = '''This is\n",
    "a multi-line\n",
    "string.'''\n",
    "print(multi_line)\n",
    "\n",
    "# Strings are immutable in Python, which means you can't change the value of a string once it's created.\n",
    "word = \"hello\"\n",
    "try:\n",
    "    word[0] = \"H\"\n",
    "except Exception as e:\n",
    "    print(f\"Error: {e}\")\n",
    "\n",
    "# but it can be reassigned\n",
    "\n",
    "word = \"Python\"\n",
    "word = \"Django\"  # Reassignment\n",
    "print(word)\n",
    "\n",
    "# raw string useful for file paths \n",
    "path = r\"C:\\new_folder\\file.txt\"\n",
    "print(path) \n",
    "\n",
    "# Concatenation\n",
    "first_name = \"Cristiano\"\n",
    "last_name = \"Ronaldo\"\n",
    "full_name = first_name + \" \" + last_name\n",
    "print(full_name)  \n",
    "\n",
    "# String slicing\n",
    "word = \"Python\"\n",
    "print(word[0])    # P\n",
    "print(word[-2])   # on\n",
    "print(word[0:2])  # Py\n",
    "print(word[2:])   # thon\n",
    "print(word[:2])   # Py\n",
    "print(word[0:5:2])  # Pto\n",
    "# reverse string using slicing\n",
    "print(word[::-1])  # nohtyP\n",
    "\n",
    "# String methods\n",
    "word = \"python\"\n",
    "print(word.upper())\n",
    "print(word.capitalize())\n",
    "print(word.replace(\"p\", \"j\"))\n",
    "print(word.find(\"t\"))\n",
    "print(word.startswith(\"p\"))\n",
    "print(word.endswith(\"n\"))\n",
    "print(word.isalpha())\n",
    "print(word.isdigit())\n",
    "print(word.islower())\n",
    "print(word.isupper())\n",
    "print(word.istitle())\n",
    "print(word.split(\"t\"))\n",
    "\n",
    "# string strip\n",
    "word = \"  python  \"\n",
    "print(word.strip())  # \"python\"\n",
    "\n",
    "# repeatition \n",
    "print(\"Hello \" * 3)\n",
    "\n",
    "\n",
    "\n",
    "\n"
   ]
  },
  {
   "cell_type": "markdown",
   "metadata": {},
   "source": [
    "## List assignment"
   ]
  },
  {
   "cell_type": "code",
   "execution_count": 31,
   "metadata": {},
   "outputs": [
    {
     "name": "stdout",
     "output_type": "stream",
     "text": [
      "['hell', 'heaven', 'earth']\n",
      "['hell', 'heaven', 'earth']\n",
      "['hell', 'heaven', 'earth']\n"
     ]
    }
   ],
   "source": [
    "# empty list\n",
    "empty_list = []\n",
    "x = [\"hell\",\"heaven\",\"earth\"]\n",
    "for i in x:\n",
    "    empty_list.append(i)\n",
    "    \n",
    "print(empty_list)\n",
    "\n",
    "# shallow copy\n",
    "copy_x = x\n",
    "print(copy_x) # x and copy_x are pointing to same memory location\n",
    "\n",
    "# deep copy\n",
    "import copy\n",
    "deep_copy_x = copy.deepcopy(x) # x and deep_copy_x are pointing to different memory location\n",
    "print(deep_copy_x)\n",
    "\n",
    "# List methods\n",
    "\n",
    "\n",
    "    "
   ]
  },
  {
   "cell_type": "markdown",
   "metadata": {},
   "source": [
    "## Boolean and Operators"
   ]
  },
  {
   "cell_type": "code",
   "execution_count": null,
   "metadata": {},
   "outputs": [],
   "source": [
    "# True and False are keywords (case-sensitive, always capitalized).\n",
    "x = True\n",
    "y = False\n",
    "print(x)  # Output: True\n",
    "print(y)  # Output: False\n",
    "\n",
    "# false values \n",
    "print(bool(0))       # Output: False\n",
    "print(bool(42))      # Output: True\n",
    "print(bool(\"\"))      # Output: False\n",
    "print(bool(\"hello\")) # Output: True\n",
    "print(bool([]))      # Output: False\n",
    "print(bool(None))    # Output: False\n",
    "\n",
    "# Logical operators\n",
    "x = True\n",
    "y = False\n",
    "print(x and y) # Output: False\n",
    "print(x or y)  # Output: True\n",
    "print(not x)   # Output: False\n",
    "\n",
    "# Comparison operators\n",
    "x = 2\n",
    "y = 3\n",
    "print(x == y)  # Output: False\n",
    "print(x != y)  # Output: True\n",
    "print(x > y)   # Output: False\n",
    "print(x < y)   # Output: True\n",
    "print(x >= y)  # Output: False\n",
    "print(x <= y)  # Output: True\n",
    "print(x is y)  # Output: False\n",
    "print(x is not y)  # Output: True\n",
    "print(x in [1, 2, 3])  # Output: True\n",
    "print (x not in [1, 2, 3]) # Output: False\n",
    "\n",
    "\n",
    "\n",
    "\n"
   ]
  },
  {
   "cell_type": "code",
   "execution_count": null,
   "metadata": {},
   "outputs": [],
   "source": []
  }
 ],
 "metadata": {
  "kernelspec": {
   "display_name": "Python 3",
   "language": "python",
   "name": "python3"
  },
  "language_info": {
   "codemirror_mode": {
    "name": "ipython",
    "version": 3
   },
   "file_extension": ".py",
   "mimetype": "text/x-python",
   "name": "python",
   "nbconvert_exporter": "python",
   "pygments_lexer": "ipython3",
   "version": "3.12.2"
  }
 },
 "nbformat": 4,
 "nbformat_minor": 4
}
